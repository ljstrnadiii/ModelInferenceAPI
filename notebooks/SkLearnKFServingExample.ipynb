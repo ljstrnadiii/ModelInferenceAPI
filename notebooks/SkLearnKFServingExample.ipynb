{
 "cells": [
  {
   "cell_type": "code",
   "execution_count": 1,
   "id": "unable-deadline",
   "metadata": {},
   "outputs": [],
   "source": [
    "from sklearn import datasets\n",
    "import requests"
   ]
  },
  {
   "cell_type": "code",
   "execution_count": 2,
   "id": "favorite-impossible",
   "metadata": {},
   "outputs": [],
   "source": [
    "iris = datasets.load_iris()\n",
    "X, y = iris.data, iris.target"
   ]
  },
  {
   "cell_type": "markdown",
   "id": "prime-butler",
   "metadata": {},
   "source": [
    "# Sklearn Example\n",
    "If you have followed the instruction [here](https://github.com/kubeflow/kfserving#test-kfserving-installation), you can get the ingress port and hast this way:"
   ]
  },
  {
   "cell_type": "code",
   "execution_count": 24,
   "id": "operational-horror",
   "metadata": {},
   "outputs": [
    {
     "data": {
      "text/plain": [
       "(['172.18.0.2'], ['30104'], ['sklearn-iris.kfserving-test.example.com'])"
      ]
     },
     "execution_count": 24,
     "metadata": {},
     "output_type": "execute_result"
    }
   ],
   "source": [
    "host = !sudo kubectl get po -l istio=ingressgateway -n istio-system -o jsonpath='{.items[0].status.hostIP}'\n",
    "port = !sudo kubectl -n istio-system get service istio-ingressgateway -o jsonpath='{.spec.ports[?(@.name==\"http2\")].nodePort}'\n",
    "service_hostname = !sudo kubectl get inferenceservice sklearn-iris -n kfserving-test -o jsonpath='{.status.url}' | cut -d \"/\" -f 3\n",
    "host, port, service_hostname"
   ]
  },
  {
   "cell_type": "code",
   "execution_count": 20,
   "id": "found-rough",
   "metadata": {},
   "outputs": [
    {
     "data": {
      "text/plain": [
       "'http://172.18.0.2:30104/v1/models/svm:predict'"
      ]
     },
     "execution_count": 20,
     "metadata": {},
     "output_type": "execute_result"
    }
   ],
   "source": [
    "f'http://{host[0]}:{port[0]}/v1/models/svm:predict'"
   ]
  },
  {
   "cell_type": "code",
   "execution_count": 31,
   "id": "general-attraction",
   "metadata": {},
   "outputs": [
    {
     "name": "stdout",
     "output_type": "stream",
     "text": [
      "<Response [200]>\n",
      "{\"predictions\": [0, 0, 0, 0, 0, 0, 0, 0, 0, 0, 0, 0, 0, 0, 0, 0, 0, 0, 0, 0, 0, 0, 0, 0, 0, 0, 0, 0, 0, 0, 0, 0, 0, 0, 0, 0, 0, 0, 0, 0, 0, 0, 0, 0, 0, 0, 0, 0, 0, 0, 1, 1, 1, 1, 1, 1, 1, 1, 1, 1, 1, 1, 1, 1, 1, 1, 1, 1, 1, 1, 1, 1, 1, 1, 1, 1, 1, 2, 1, 1, 1, 1, 1, 2, 1, 1, 1, 1, 1, 1, 1, 1, 1, 1, 1, 1, 1, 1, 1, 1]}\n"
     ]
    }
   ],
   "source": [
    "formData = {\n",
    "    'instances': X[0:100].tolist()\n",
    "}\n",
    "res = requests.post(\n",
    "    f'http://{host[0]}:{port[0]}/v1/models/sklearn-iris:predict',\n",
    "    json=formData,\n",
    "    headers={'host': service_hostname[0]})\n",
    "print(res)\n",
    "print(res.text)"
   ]
  }
 ],
 "metadata": {
  "kernelspec": {
   "display_name": "mapi",
   "language": "python",
   "name": "mapi"
  },
  "language_info": {
   "codemirror_mode": {
    "name": "ipython",
    "version": 3
   },
   "file_extension": ".py",
   "mimetype": "text/x-python",
   "name": "python",
   "nbconvert_exporter": "python",
   "pygments_lexer": "ipython3",
   "version": "3.6.9"
  }
 },
 "nbformat": 4,
 "nbformat_minor": 5
}
